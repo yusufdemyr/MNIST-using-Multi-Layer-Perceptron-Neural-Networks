{
  "nbformat": 4,
  "nbformat_minor": 0,
  "metadata": {
    "colab": {
      "provenance": [],
      "authorship_tag": "ABX9TyNgZ7husMhwN9a6f0MzA6Nu"
    },
    "kernelspec": {
      "name": "python3",
      "display_name": "Python 3"
    },
    "language_info": {
      "name": "python"
    }
  },
  "cells": [
    {
      "cell_type": "code",
      "execution_count": 38,
      "metadata": {
        "colab": {
          "base_uri": "https://localhost:8080/"
        },
        "id": "UsXgTKfiZ20_",
        "outputId": "b4bbd9de-7c94-4028-abd1-8a21b1599b00"
      },
      "outputs": [
        {
          "output_type": "stream",
          "name": "stderr",
          "text": [
            "/usr/local/lib/python3.9/dist-packages/sklearn/datasets/_openml.py:968: FutureWarning: The default value of `parser` will change from `'liac-arff'` to `'auto'` in 1.4. You can set `parser='auto'` to silence this warning. Therefore, an `ImportError` will be raised from 1.4 if the dataset is dense and pandas is not installed. Note that the pandas parser may return different data types. See the Notes Section in fetch_openml's API doc for details.\n",
            "  warn(\n"
          ]
        }
      ],
      "source": [
        "from sklearn.datasets import fetch_openml\n",
        "from sklearn.model_selection import train_test_split\n",
        "\"\"\"\n",
        "---\n",
        "FutureWarning: The default value of `parser` will change from `'liac-arff'` to `'auto'` in 1.4. You can set `parser='auto'` to silence this warning. \n",
        "Therefore, an `ImportError` will be raised from 1.4 if the dataset is dense and pandas is not installed. Note that the pandas parser may return different data types. \n",
        "See the Notes Section in fetch_openml's API doc for details.\n",
        "  warn(\n",
        "---\n",
        "This error states that 'liac-arff', which is the default value of parser argument of fetch_openml function, will be changed to 'auto' after version 1.4, \n",
        "and this change is reported with a warning message.\n",
        "\n",
        "This warning means that when using the fetch_openml function, the data parser 'liac-arff', which is used by default, will throw an ImportError when the dataset is dense, \n",
        "ie when it has many features and Pandas is not installed. Therefore, it is recommended that users set the 'parser' argument to 'auto'.\n",
        "\n",
        "It should also be noted that the Pandas data parser can return different data types and this is detailed in the Notes Section of the fetch_openml API documentation.\n",
        "\"\"\"\n",
        "\n",
        "# MNIST dataset is fetched from OpenML.\n",
        "X, y = fetch_openml('mnist_784',version=1, return_X_y=True,as_frame=False)\n",
        "#X, y = fetch_openml('mnist_784',version=1, return_X_y=True,as_frame=False,parser='auto')\n",
        "\"\"\"\n",
        "Scaling of data:\n",
        "Each pixel value in the range 0-255 is normalized to the range 0-1.\n",
        "\"\"\"\n",
        "X = X / 255.0\n",
        "\"\"\"\n",
        "The dataset is divided into train and test sets. random_state=0 is used to \n",
        "ensure the same data split every time. test_size=0.7 is set to use 70% of the \n",
        "data as the test set.\n",
        "\"\"\"\n",
        "X_train, X_test, y_train, y_test = train_test_split(X, y, random_state=0, test_size=0.7)"
      ]
    },
    {
      "cell_type": "code",
      "source": [
        "import pandas as pd\n",
        "\n",
        "# Converting X data to a DataFrame with the Pandas library.\n",
        "data = pd.DataFrame(X)\n",
        "\n",
        "# A column named \"label\" is added to the DataFrame and y values are assigned to this column.\n",
        "data.insert(784, 'label', y)\n",
        "\n",
        "# Displaying the first 5 rows of the DataFrame.\n",
        "data.head()"
      ],
      "metadata": {
        "id": "-ZxTYT9daZPU",
        "colab": {
          "base_uri": "https://localhost:8080/",
          "height": 236
        },
        "outputId": "f9965c3f-1857-408e-95d3-e9dcbc142cf8"
      },
      "execution_count": 22,
      "outputs": [
        {
          "output_type": "execute_result",
          "data": {
            "text/plain": [
              "     0    1    2    3    4    5    6    7    8    9  ...  775  776  777  778  \\\n",
              "0  0.0  0.0  0.0  0.0  0.0  0.0  0.0  0.0  0.0  0.0  ...  0.0  0.0  0.0  0.0   \n",
              "1  0.0  0.0  0.0  0.0  0.0  0.0  0.0  0.0  0.0  0.0  ...  0.0  0.0  0.0  0.0   \n",
              "2  0.0  0.0  0.0  0.0  0.0  0.0  0.0  0.0  0.0  0.0  ...  0.0  0.0  0.0  0.0   \n",
              "3  0.0  0.0  0.0  0.0  0.0  0.0  0.0  0.0  0.0  0.0  ...  0.0  0.0  0.0  0.0   \n",
              "4  0.0  0.0  0.0  0.0  0.0  0.0  0.0  0.0  0.0  0.0  ...  0.0  0.0  0.0  0.0   \n",
              "\n",
              "   779  780  781  782  783  label  \n",
              "0  0.0  0.0  0.0  0.0  0.0      5  \n",
              "1  0.0  0.0  0.0  0.0  0.0      0  \n",
              "2  0.0  0.0  0.0  0.0  0.0      4  \n",
              "3  0.0  0.0  0.0  0.0  0.0      1  \n",
              "4  0.0  0.0  0.0  0.0  0.0      9  \n",
              "\n",
              "[5 rows x 785 columns]"
            ],
            "text/html": [
              "\n",
              "  <div id=\"df-6e133061-5463-4efb-a3ce-d97bd14afa3d\">\n",
              "    <div class=\"colab-df-container\">\n",
              "      <div>\n",
              "<style scoped>\n",
              "    .dataframe tbody tr th:only-of-type {\n",
              "        vertical-align: middle;\n",
              "    }\n",
              "\n",
              "    .dataframe tbody tr th {\n",
              "        vertical-align: top;\n",
              "    }\n",
              "\n",
              "    .dataframe thead th {\n",
              "        text-align: right;\n",
              "    }\n",
              "</style>\n",
              "<table border=\"1\" class=\"dataframe\">\n",
              "  <thead>\n",
              "    <tr style=\"text-align: right;\">\n",
              "      <th></th>\n",
              "      <th>0</th>\n",
              "      <th>1</th>\n",
              "      <th>2</th>\n",
              "      <th>3</th>\n",
              "      <th>4</th>\n",
              "      <th>5</th>\n",
              "      <th>6</th>\n",
              "      <th>7</th>\n",
              "      <th>8</th>\n",
              "      <th>9</th>\n",
              "      <th>...</th>\n",
              "      <th>775</th>\n",
              "      <th>776</th>\n",
              "      <th>777</th>\n",
              "      <th>778</th>\n",
              "      <th>779</th>\n",
              "      <th>780</th>\n",
              "      <th>781</th>\n",
              "      <th>782</th>\n",
              "      <th>783</th>\n",
              "      <th>label</th>\n",
              "    </tr>\n",
              "  </thead>\n",
              "  <tbody>\n",
              "    <tr>\n",
              "      <th>0</th>\n",
              "      <td>0.0</td>\n",
              "      <td>0.0</td>\n",
              "      <td>0.0</td>\n",
              "      <td>0.0</td>\n",
              "      <td>0.0</td>\n",
              "      <td>0.0</td>\n",
              "      <td>0.0</td>\n",
              "      <td>0.0</td>\n",
              "      <td>0.0</td>\n",
              "      <td>0.0</td>\n",
              "      <td>...</td>\n",
              "      <td>0.0</td>\n",
              "      <td>0.0</td>\n",
              "      <td>0.0</td>\n",
              "      <td>0.0</td>\n",
              "      <td>0.0</td>\n",
              "      <td>0.0</td>\n",
              "      <td>0.0</td>\n",
              "      <td>0.0</td>\n",
              "      <td>0.0</td>\n",
              "      <td>5</td>\n",
              "    </tr>\n",
              "    <tr>\n",
              "      <th>1</th>\n",
              "      <td>0.0</td>\n",
              "      <td>0.0</td>\n",
              "      <td>0.0</td>\n",
              "      <td>0.0</td>\n",
              "      <td>0.0</td>\n",
              "      <td>0.0</td>\n",
              "      <td>0.0</td>\n",
              "      <td>0.0</td>\n",
              "      <td>0.0</td>\n",
              "      <td>0.0</td>\n",
              "      <td>...</td>\n",
              "      <td>0.0</td>\n",
              "      <td>0.0</td>\n",
              "      <td>0.0</td>\n",
              "      <td>0.0</td>\n",
              "      <td>0.0</td>\n",
              "      <td>0.0</td>\n",
              "      <td>0.0</td>\n",
              "      <td>0.0</td>\n",
              "      <td>0.0</td>\n",
              "      <td>0</td>\n",
              "    </tr>\n",
              "    <tr>\n",
              "      <th>2</th>\n",
              "      <td>0.0</td>\n",
              "      <td>0.0</td>\n",
              "      <td>0.0</td>\n",
              "      <td>0.0</td>\n",
              "      <td>0.0</td>\n",
              "      <td>0.0</td>\n",
              "      <td>0.0</td>\n",
              "      <td>0.0</td>\n",
              "      <td>0.0</td>\n",
              "      <td>0.0</td>\n",
              "      <td>...</td>\n",
              "      <td>0.0</td>\n",
              "      <td>0.0</td>\n",
              "      <td>0.0</td>\n",
              "      <td>0.0</td>\n",
              "      <td>0.0</td>\n",
              "      <td>0.0</td>\n",
              "      <td>0.0</td>\n",
              "      <td>0.0</td>\n",
              "      <td>0.0</td>\n",
              "      <td>4</td>\n",
              "    </tr>\n",
              "    <tr>\n",
              "      <th>3</th>\n",
              "      <td>0.0</td>\n",
              "      <td>0.0</td>\n",
              "      <td>0.0</td>\n",
              "      <td>0.0</td>\n",
              "      <td>0.0</td>\n",
              "      <td>0.0</td>\n",
              "      <td>0.0</td>\n",
              "      <td>0.0</td>\n",
              "      <td>0.0</td>\n",
              "      <td>0.0</td>\n",
              "      <td>...</td>\n",
              "      <td>0.0</td>\n",
              "      <td>0.0</td>\n",
              "      <td>0.0</td>\n",
              "      <td>0.0</td>\n",
              "      <td>0.0</td>\n",
              "      <td>0.0</td>\n",
              "      <td>0.0</td>\n",
              "      <td>0.0</td>\n",
              "      <td>0.0</td>\n",
              "      <td>1</td>\n",
              "    </tr>\n",
              "    <tr>\n",
              "      <th>4</th>\n",
              "      <td>0.0</td>\n",
              "      <td>0.0</td>\n",
              "      <td>0.0</td>\n",
              "      <td>0.0</td>\n",
              "      <td>0.0</td>\n",
              "      <td>0.0</td>\n",
              "      <td>0.0</td>\n",
              "      <td>0.0</td>\n",
              "      <td>0.0</td>\n",
              "      <td>0.0</td>\n",
              "      <td>...</td>\n",
              "      <td>0.0</td>\n",
              "      <td>0.0</td>\n",
              "      <td>0.0</td>\n",
              "      <td>0.0</td>\n",
              "      <td>0.0</td>\n",
              "      <td>0.0</td>\n",
              "      <td>0.0</td>\n",
              "      <td>0.0</td>\n",
              "      <td>0.0</td>\n",
              "      <td>9</td>\n",
              "    </tr>\n",
              "  </tbody>\n",
              "</table>\n",
              "<p>5 rows × 785 columns</p>\n",
              "</div>\n",
              "      <button class=\"colab-df-convert\" onclick=\"convertToInteractive('df-6e133061-5463-4efb-a3ce-d97bd14afa3d')\"\n",
              "              title=\"Convert this dataframe to an interactive table.\"\n",
              "              style=\"display:none;\">\n",
              "        \n",
              "  <svg xmlns=\"http://www.w3.org/2000/svg\" height=\"24px\"viewBox=\"0 0 24 24\"\n",
              "       width=\"24px\">\n",
              "    <path d=\"M0 0h24v24H0V0z\" fill=\"none\"/>\n",
              "    <path d=\"M18.56 5.44l.94 2.06.94-2.06 2.06-.94-2.06-.94-.94-2.06-.94 2.06-2.06.94zm-11 1L8.5 8.5l.94-2.06 2.06-.94-2.06-.94L8.5 2.5l-.94 2.06-2.06.94zm10 10l.94 2.06.94-2.06 2.06-.94-2.06-.94-.94-2.06-.94 2.06-2.06.94z\"/><path d=\"M17.41 7.96l-1.37-1.37c-.4-.4-.92-.59-1.43-.59-.52 0-1.04.2-1.43.59L10.3 9.45l-7.72 7.72c-.78.78-.78 2.05 0 2.83L4 21.41c.39.39.9.59 1.41.59.51 0 1.02-.2 1.41-.59l7.78-7.78 2.81-2.81c.8-.78.8-2.07 0-2.86zM5.41 20L4 18.59l7.72-7.72 1.47 1.35L5.41 20z\"/>\n",
              "  </svg>\n",
              "      </button>\n",
              "      \n",
              "  <style>\n",
              "    .colab-df-container {\n",
              "      display:flex;\n",
              "      flex-wrap:wrap;\n",
              "      gap: 12px;\n",
              "    }\n",
              "\n",
              "    .colab-df-convert {\n",
              "      background-color: #E8F0FE;\n",
              "      border: none;\n",
              "      border-radius: 50%;\n",
              "      cursor: pointer;\n",
              "      display: none;\n",
              "      fill: #1967D2;\n",
              "      height: 32px;\n",
              "      padding: 0 0 0 0;\n",
              "      width: 32px;\n",
              "    }\n",
              "\n",
              "    .colab-df-convert:hover {\n",
              "      background-color: #E2EBFA;\n",
              "      box-shadow: 0px 1px 2px rgba(60, 64, 67, 0.3), 0px 1px 3px 1px rgba(60, 64, 67, 0.15);\n",
              "      fill: #174EA6;\n",
              "    }\n",
              "\n",
              "    [theme=dark] .colab-df-convert {\n",
              "      background-color: #3B4455;\n",
              "      fill: #D2E3FC;\n",
              "    }\n",
              "\n",
              "    [theme=dark] .colab-df-convert:hover {\n",
              "      background-color: #434B5C;\n",
              "      box-shadow: 0px 1px 3px 1px rgba(0, 0, 0, 0.15);\n",
              "      filter: drop-shadow(0px 1px 2px rgba(0, 0, 0, 0.3));\n",
              "      fill: #FFFFFF;\n",
              "    }\n",
              "  </style>\n",
              "\n",
              "      <script>\n",
              "        const buttonEl =\n",
              "          document.querySelector('#df-6e133061-5463-4efb-a3ce-d97bd14afa3d button.colab-df-convert');\n",
              "        buttonEl.style.display =\n",
              "          google.colab.kernel.accessAllowed ? 'block' : 'none';\n",
              "\n",
              "        async function convertToInteractive(key) {\n",
              "          const element = document.querySelector('#df-6e133061-5463-4efb-a3ce-d97bd14afa3d');\n",
              "          const dataTable =\n",
              "            await google.colab.kernel.invokeFunction('convertToInteractive',\n",
              "                                                     [key], {});\n",
              "          if (!dataTable) return;\n",
              "\n",
              "          const docLinkHtml = 'Like what you see? Visit the ' +\n",
              "            '<a target=\"_blank\" href=https://colab.research.google.com/notebooks/data_table.ipynb>data table notebook</a>'\n",
              "            + ' to learn more about interactive tables.';\n",
              "          element.innerHTML = '';\n",
              "          dataTable['output_type'] = 'display_data';\n",
              "          await google.colab.output.renderOutput(dataTable, element);\n",
              "          const docLink = document.createElement('div');\n",
              "          docLink.innerHTML = docLinkHtml;\n",
              "          element.appendChild(docLink);\n",
              "        }\n",
              "      </script>\n",
              "    </div>\n",
              "  </div>\n",
              "  "
            ]
          },
          "metadata": {},
          "execution_count": 22
        }
      ]
    },
    {
      "cell_type": "code",
      "source": [
        "import matplotlib.pyplot as plt\n",
        "\n",
        "for i in range(5):\n",
        "   plt.imshow(X[i].reshape((28,28)), cmap='RdBu_r')\n",
        "   \"\"\"\n",
        "    We transform each element in the X dataset into a (28.28) dimensional image\n",
        "    and visualize it using the RdBu_r color map. Since this line works in a loop,\n",
        "    this process is done for each element and 5 images are drawn as a result.\n",
        "   \"\"\""
      ],
      "metadata": {
        "colab": {
          "base_uri": "https://localhost:8080/",
          "height": 265
        },
        "id": "ZrhMPNSjdZ3_",
        "outputId": "288baa11-cf3e-4a98-c6a9-a923d285aed0"
      },
      "execution_count": 23,
      "outputs": [
        {
          "output_type": "display_data",
          "data": {
            "text/plain": [
              "<Figure size 432x288 with 1 Axes>"
            ],
            "image/png": "[encoded data removed]"
          },
          "metadata": {
            "needs_background": "light"
          }
        }
      ]
    },
    {
      "cell_type": "code",
      "source": [
        "\"\"\"\n",
        "This code block creates three different neural network objects with \n",
        "different numbers of hidden layer neurons and uses the logistic function as \n",
        "their activation function. These objects can then be trained for different classification problems.\n",
        "\"\"\"\n",
        "\n",
        "from sklearn.neural_network import MLPClassifier\n",
        "\n",
        "\"\"\"\n",
        "This line creates an object of class MLPClassifier and this object \n",
        "creates a neural network with a single hidden layer. The number of neurons of this hidden layer is determined \n",
        "by the \"hidden_layer_sizes\" parameter and is set to 1 here. The \"activation\" parameter specifies that neurons \n",
        "in the hidden layer will use the logistic function as the activation function.\n",
        "\"\"\"\n",
        "mlp = MLPClassifier(hidden_layer_sizes=1, activation='logistic')\n",
        "\n",
        "# This time with 100 layers\n",
        "mlp1 = MLPClassifier(hidden_layer_sizes=100, activation='logistic')\n",
        "\n",
        "# And 1000 layers\n",
        "mlp2 = MLPClassifier(hidden_layer_sizes=1000, activation='logistic')\n"
      ],
      "metadata": {
        "id": "6RdzFKQ8fsxH"
      },
      "execution_count": 24,
      "outputs": []
    },
    {
      "cell_type": "code",
      "source": [
        "\"\"\"\n",
        "The training data trains the neural network with X_train and y_train. \n",
        "This training process is performed to learn to match classes of instances\n",
        "in X_train with labels in y_train.\n",
        "\"\"\"\n",
        "mlp.fit(X_train,y_train)\n",
        "\"\"\"\n",
        "---\n",
        "ConvergenceWarning: Stochastic Optimizer: Maximum iterations (200) reached and\n",
        "the optimization hasn't converged yet.\n",
        "  warnings.warn(\n",
        "---\n",
        "This warning indicates that the optimizing algorithm still has not reached \n",
        "the optimal solution when the specified number of iterations (in this case 200) is reached while \n",
        "optimizing the multilayer perceptron. This may affect the performance of the model and \n",
        "more iterations may be required to obtain better results.\n",
        "\"\"\"\n",
        "mlp1.fit(X_train,y_train)\n",
        "\n",
        "mlp2.fit(X_train,y_train)\n",
        "\n",
        "\"\"\"\n",
        "Test data makes predictions on X_test. These estimates are similar to those of the samples in X_test.\n",
        "It is created after the training of the artificial neural network to determine the classes.\n",
        "\"\"\""
      ],
      "metadata": {
        "colab": {
          "base_uri": "https://localhost:8080/",
          "height": 107
        },
        "id": "4KDO6x8rgZ2y",
        "outputId": "7ac45d34-0523-4397-9acb-3efd5441bcda"
      },
      "execution_count": 25,
      "outputs": [
        {
          "output_type": "stream",
          "name": "stderr",
          "text": [
            "/usr/local/lib/python3.9/dist-packages/sklearn/neural_network/_multilayer_perceptron.py:686: ConvergenceWarning: Stochastic Optimizer: Maximum iterations (200) reached and the optimization hasn't converged yet.\n",
            "  warnings.warn(\n"
          ]
        },
        {
          "output_type": "execute_result",
          "data": {
            "text/plain": [
              "'\\nTest data makes predictions on X_test. These estimates are similar to those of the samples in X_test.\\nIt is created after the training of the artificial neural network to determine the classes.\\n'"
            ],
            "application/vnd.google.colaboratory.intrinsic+json": {
              "type": "string"
            }
          },
          "metadata": {},
          "execution_count": 25
        }
      ]
    },
    {
      "cell_type": "code",
      "source": [
        "\"\"\"\n",
        "Test data makes predictions on X_test. These estimates are similar to those of the samples in X_test.\n",
        "It is created after the training of the artificial neural network to determine the classes.\n",
        "\"\"\"\n",
        "predictions_NN = mlp.predict(X_test)\n",
        "predictions_NN"
      ],
      "metadata": {
        "colab": {
          "base_uri": "https://localhost:8080/"
        },
        "id": "XnaP4bsNlFH4",
        "outputId": "53554da2-7b47-4917-d711-f90d94fccda1"
      },
      "execution_count": 26,
      "outputs": [
        {
          "output_type": "execute_result",
          "data": {
            "text/plain": [
              "array(['6', '7', '1', ..., '8', '6', '1'], dtype='<U1')"
            ]
          },
          "metadata": {},
          "execution_count": 26
        }
      ]
    },
    {
      "cell_type": "code",
      "source": [
        "predictions_NN1 = mlp1.predict(X_test)\n",
        "predictions_NN1"
      ],
      "metadata": {
        "colab": {
          "base_uri": "https://localhost:8080/"
        },
        "id": "hYSAivZjlJPV",
        "outputId": "bf25e237-7631-49e3-d796-935578dfee97"
      },
      "execution_count": 27,
      "outputs": [
        {
          "output_type": "execute_result",
          "data": {
            "text/plain": [
              "array(['0', '4', '1', ..., '8', '3', '9'], dtype='<U1')"
            ]
          },
          "metadata": {},
          "execution_count": 27
        }
      ]
    },
    {
      "cell_type": "code",
      "source": [
        "predictions_NN2 = mlp2.predict(X_test)\n",
        "predictions_NN2"
      ],
      "metadata": {
        "colab": {
          "base_uri": "https://localhost:8080/"
        },
        "id": "OZoCCyZLlNmd",
        "outputId": "033a7e2b-626d-4857-b544-99f4a745fc32"
      },
      "execution_count": 28,
      "outputs": [
        {
          "output_type": "execute_result",
          "data": {
            "text/plain": [
              "array(['0', '4', '1', ..., '8', '3', '9'], dtype='<U1')"
            ]
          },
          "metadata": {},
          "execution_count": 28
        }
      ]
    },
    {
      "cell_type": "code",
      "source": [
        "# In order to check if the prediction is correct by taking the example\n",
        "print(f'Actual Value: {y_test[5]}')\n",
        "print(f'Predicted Value For 1 Hidden Layer: {predictions_NN[5]}')\n",
        "print(f'Predicted Value For 100 Hidden Layer: {predictions_NN1[5]}')\n",
        "print(f'Predicted Value For 1000 Hidden Layer: {predictions_NN2[5]}')\n",
        "\n",
        "\"\"\"\n",
        "First, the pixel matrix of the sample in the sample dataset is displayed using the \"imshow\" function. \n",
        "Then, by calling the \"show\" function, the image is opened and displayed on the screen. Here the \"cmap='gray'\" argument \n",
        "is used to display the image in black and white format.\n",
        "\"\"\"\n",
        "plt.imshow(X_test[5].reshape((28,28)),cmap='gray')\n",
        "plt.show()"
      ],
      "metadata": {
        "colab": {
          "base_uri": "https://localhost:8080/",
          "height": 334
        },
        "id": "wrd1XW2wlT3k",
        "outputId": "e3197fe0-545b-4c76-f664-a9c51cf4c0ca"
      },
      "execution_count": 29,
      "outputs": [
        {
          "output_type": "stream",
          "name": "stdout",
          "text": [
            "Actual Value: 9\n",
            "Predicted Value For 1 Hidden Layer: 7\n",
            "Predicted Value For 100 Hidden Layer: 9\n",
            "Predicted Value For 1000 Hidden Layer: 9\n"
          ]
        },
        {
          "output_type": "display_data",
          "data": {
            "text/plain": [
              "<Figure size 432x288 with 1 Axes>"
            ],
            "image/png": "[encoded data removed]"
          },
          "metadata": {
            "needs_background": "light"
          }
        }
      ]
    },
    {
      "cell_type": "code",
      "source": [
        "# Operation to evaluate the performance of the model.\n",
        "from sklearn.metrics import confusion_matrix\n",
        "\"\"\"\n",
        "The confusion matrix shows correct predictions and incorrect predictions for each class.\n",
        "Displays the number of predictions. As you can see, thats bad for only one layer.\n",
        "\"\"\"\n",
        "confusion_matrix(y_test,predictions_NN)"
      ],
      "metadata": {
        "colab": {
          "base_uri": "https://localhost:8080/"
        },
        "id": "Sr1sbcKPmFzm",
        "outputId": "5ba583f2-b146-4103-da8b-6616ca1805ff"
      },
      "execution_count": 30,
      "outputs": [
        {
          "output_type": "execute_result",
          "data": {
            "text/plain": [
              "array([[   0,   47,  683,  233,    0,    0, 3928,    8,   12,    0],\n",
              "       [   0, 4969,   50,  133,    0,    0,   90,  105,  197,    0],\n",
              "       [   0,  142,  658,  525,    0,    0, 3437,   56,   78,    0],\n",
              "       [   0,  809, 1022, 1867,    0,    0,  765,  145,  378,    0],\n",
              "       [   0,  390,   38,   65,    0,    0,   37, 4215,   23,    0],\n",
              "       [   0,  759,  831, 1817,    0,    0,  498,   96,  383,    0],\n",
              "       [   0,   29,  205,  116,    0,    0, 4404,    7,   19,    0],\n",
              "       [   0,  531,   14,   56,    0,    0,   11, 4436,   24,    0],\n",
              "       [   0, 1719,  359, 1726,    0,    0,  153,  126,  674,    0],\n",
              "       [   0,  287,   22,   56,    0,    0,   18, 4500,   19,    0]])"
            ]
          },
          "metadata": {},
          "execution_count": 30
        }
      ]
    },
    {
      "cell_type": "code",
      "source": [
        "confusion_matrix(y_test,predictions_NN1)"
      ],
      "metadata": {
        "colab": {
          "base_uri": "https://localhost:8080/"
        },
        "id": "_sh2MvqgmR0A",
        "outputId": "c3577652-2e92-45c8-dc84-f33f78851ae4"
      },
      "execution_count": 31,
      "outputs": [
        {
          "output_type": "execute_result",
          "data": {
            "text/plain": [
              "array([[4791,    1,   13,    3,    9,   17,   36,    5,   26,   10],\n",
              "       [   1, 5465,   21,   14,    5,    3,    6,    8,    9,   12],\n",
              "       [  12,   10, 4728,   28,   32,    5,   10,   31,   37,    3],\n",
              "       [  12,   13,   72, 4704,    4,   76,    4,   23,   56,   22],\n",
              "       [   4,   12,   21,    1, 4614,    4,   21,   12,    7,   72],\n",
              "       [  19,    6,   12,   47,   17, 4187,   43,    5,   33,   15],\n",
              "       [  21,    9,   15,    4,   16,   30, 4662,    5,   17,    1],\n",
              "       [   5,   16,   43,   12,   41,    6,    0, 4905,    3,   41],\n",
              "       [  22,   32,   23,   36,   19,   34,   18,    4, 4540,   29],\n",
              "       [  16,    9,    6,   34,   93,   21,    4,   60,   22, 4637]])"
            ]
          },
          "metadata": {},
          "execution_count": 31
        }
      ]
    },
    {
      "cell_type": "code",
      "source": [
        "confusion_matrix(y_test,predictions_NN2)"
      ],
      "metadata": {
        "colab": {
          "base_uri": "https://localhost:8080/"
        },
        "id": "z7nvD6FomS3e",
        "outputId": "5eb6a5a5-edc8-409a-936e-1d9b56d0413d"
      },
      "execution_count": 32,
      "outputs": [
        {
          "output_type": "execute_result",
          "data": {
            "text/plain": [
              "array([[4819,    1,   14,    6,    6,   12,   21,    3,   21,    8],\n",
              "       [   1, 5477,   26,    8,    3,    1,    5,    6,    9,    8],\n",
              "       [  15,    9, 4744,   18,   30,    2,   14,   31,   28,    5],\n",
              "       [   7,   10,   66, 4734,    4,   62,    3,   18,   61,   21],\n",
              "       [   6,   12,   18,    2, 4625,    3,   16,    9,    7,   70],\n",
              "       [  15,    6,   13,   39,    8, 4223,   32,    7,   25,   16],\n",
              "       [  19,   11,   16,    4,   18,   23, 4662,    7,   20,    0],\n",
              "       [   1,   20,   43,   13,   34,    5,    0, 4905,    6,   45],\n",
              "       [  16,   33,   21,   27,   12,   29,   17,    3, 4582,   17],\n",
              "       [  20,   12,    2,   28,   61,   24,    3,   56,   20, 4676]])"
            ]
          },
          "metadata": {},
          "execution_count": 32
        }
      ]
    },
    {
      "cell_type": "code",
      "source": [
        "from sklearn.metrics import classification_report\n",
        "\"\"\"\n",
        "This code block is used to report classification results.\n",
        "The \"classification_report\" function generates a report that provides information \n",
        "on a number of metrics such as classification accuracy, precision, recall, and F1 score.\n",
        "\"\"\"\n",
        "print(classification_report(y_test,predictions_NN, zero_division=False))"
      ],
      "metadata": {
        "colab": {
          "base_uri": "https://localhost:8080/"
        },
        "id": "epnXrTs7mbjr",
        "outputId": "79c1d56d-6082-4cb9-d4c8-45cd9a907dff"
      },
      "execution_count": 33,
      "outputs": [
        {
          "output_type": "stream",
          "name": "stdout",
          "text": [
            "              precision    recall  f1-score   support\n",
            "\n",
            "           0       0.00      0.00      0.00      4911\n",
            "           1       0.51      0.90      0.65      5544\n",
            "           2       0.17      0.13      0.15      4896\n",
            "           3       0.28      0.37      0.32      4986\n",
            "           4       0.00      0.00      0.00      4768\n",
            "           5       0.00      0.00      0.00      4384\n",
            "           6       0.33      0.92      0.49      4780\n",
            "           7       0.32      0.87      0.47      5072\n",
            "           8       0.37      0.14      0.21      4757\n",
            "           9       0.00      0.00      0.00      4902\n",
            "\n",
            "    accuracy                           0.35     49000\n",
            "   macro avg       0.20      0.33      0.23     49000\n",
            "weighted avg       0.21      0.35      0.24     49000\n",
            "\n"
          ]
        }
      ]
    },
    {
      "cell_type": "code",
      "source": [
        "print(classification_report(y_test,predictions_NN1))"
      ],
      "metadata": {
        "colab": {
          "base_uri": "https://localhost:8080/"
        },
        "id": "_S4u8WvbmngF",
        "outputId": "ec318467-e412-4a0b-e409-53e3990f83b9"
      },
      "execution_count": 34,
      "outputs": [
        {
          "output_type": "stream",
          "name": "stdout",
          "text": [
            "              precision    recall  f1-score   support\n",
            "\n",
            "           0       0.98      0.98      0.98      4911\n",
            "           1       0.98      0.99      0.98      5544\n",
            "           2       0.95      0.97      0.96      4896\n",
            "           3       0.96      0.94      0.95      4986\n",
            "           4       0.95      0.97      0.96      4768\n",
            "           5       0.96      0.96      0.96      4384\n",
            "           6       0.97      0.98      0.97      4780\n",
            "           7       0.97      0.97      0.97      5072\n",
            "           8       0.96      0.95      0.96      4757\n",
            "           9       0.96      0.95      0.95      4902\n",
            "\n",
            "    accuracy                           0.96     49000\n",
            "   macro avg       0.96      0.96      0.96     49000\n",
            "weighted avg       0.96      0.96      0.96     49000\n",
            "\n"
          ]
        }
      ]
    },
    {
      "cell_type": "code",
      "source": [
        "print(classification_report(y_test,predictions_NN2))"
      ],
      "metadata": {
        "colab": {
          "base_uri": "https://localhost:8080/"
        },
        "id": "N7Rxqr-mwQyb",
        "outputId": "ea49ef00-797f-45cd-d821-f9e3f2b7aa5b"
      },
      "execution_count": 35,
      "outputs": [
        {
          "output_type": "stream",
          "name": "stdout",
          "text": [
            "              precision    recall  f1-score   support\n",
            "\n",
            "           0       0.98      0.98      0.98      4911\n",
            "           1       0.98      0.99      0.98      5544\n",
            "           2       0.96      0.97      0.96      4896\n",
            "           3       0.97      0.95      0.96      4986\n",
            "           4       0.96      0.97      0.97      4768\n",
            "           5       0.96      0.96      0.96      4384\n",
            "           6       0.98      0.98      0.98      4780\n",
            "           7       0.97      0.97      0.97      5072\n",
            "           8       0.96      0.96      0.96      4757\n",
            "           9       0.96      0.95      0.96      4902\n",
            "\n",
            "    accuracy                           0.97     49000\n",
            "   macro avg       0.97      0.97      0.97     49000\n",
            "weighted avg       0.97      0.97      0.97     49000\n",
            "\n"
          ]
        }
      ]
    }
  ]
}